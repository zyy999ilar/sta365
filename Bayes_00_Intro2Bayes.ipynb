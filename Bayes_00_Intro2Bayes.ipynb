{
  "cells": [
    {
      "cell_type": "markdown",
      "metadata": {
        "id": "view-in-github",
        "colab_type": "text"
      },
      "source": [
        "<a href=\"https://colab.research.google.com/github/zyy999ilar/sta365/blob/main/Bayes_00_Intro2Bayes.ipynb\" target=\"_parent\"><img src=\"https://colab.research.google.com/assets/colab-badge.svg\" alt=\"Open In Colab\"/></a>"
      ]
    },
    {
      "cell_type": "markdown",
      "id": "ffe0265f",
      "metadata": {
        "id": "ffe0265f"
      },
      "source": [
        "# Most Basic Bayesian Interview Question\n",
        "\n",
        "---\n",
        "\n",
        "Are you familiar with Bayesian inference?\n",
        "\n",
        "> Yes!\n",
        "\n",
        "Well then you must know **the law of total probability**! What's that?\n",
        "\n",
        "> What proportion of students will pass this class $\\Pr(pass)$ if you know $\\Pr(pass|quick)$ as well as the distribution of $quick$?\n",
        "\n",
        "Now what proportion of students who will pass the class answer this question quickly?\n",
        "\n",
        "> The structure of this question is **_the most basic Bayesian interview question_**, but it requires some assumptions..."
      ]
    },
    {
      "cell_type": "markdown",
      "id": "ce983413",
      "metadata": {
        "id": "ce983413"
      },
      "source": [
        "# Bayesian Terminology\n",
        "---\n",
        "\n",
        "## Bayes Theorem\n",
        "\n",
        "\\begin{align*}\n",
        "\\overset{posterior}{p(\\theta|x)} &={} \\frac{\\overset{likelihood}{p(x|\\theta)}\\times \\overset{prior}{p(\\theta)}}{\\overset{\\text{evidence}}{p(x)}}\\\\\n",
        "&={} \\frac{{p(x, \\theta)}}{\\underset{\\text{marginal likelihood}}{\\displaystyle \\int p(x|\\theta)p(\\theta) d\\theta}} \\textrm{ or }\n",
        "\\frac{{p(x, \\theta)}}{\\underset{\\text{law of total probability}}{\\displaystyle \\sum_{k} p(x|\\theta_k)p(\\theta_k)}} =\n",
        "\\frac{\\overset{joint}{p(x, \\theta)}}{\\underset{\\text{normalizing constant}}{c}}\n",
        "\\end{align*}\n",
        "\n",
        "### _The posterior is always proportional to the joint_\n",
        "\n",
        "$$\\large p(\\theta|x) = (1/c)\\times p(\\theta,x) \\propto{} p(\\theta,x)$$\n",
        "\n",
        "**_and the posterior is always a proper distribution if the prior is_**"
      ]
    },
    {
      "cell_type": "markdown",
      "id": "4d0f29e6",
      "metadata": {
        "id": "4d0f29e6"
      },
      "source": [
        "# Example\n",
        "---\n",
        "\\begin{align*}\n",
        "\\text{Likelihood} && p(x|\\theta,n) &={} C^n_k\\theta^{x}(1-\\theta)^{n-x}\\\\\n",
        "&&& \\quad\\; [\\text{exponential family distribution if $n$ is known}]\\\\\n",
        "&&& \\quad\\; [\\text{What is this distribution? What is $C^n_k$?}]\\\\\\\\\n",
        "\\text{Prior} && p(\\theta|\\alpha,\\beta) &={} \\frac{\\Gamma(\\alpha+\\beta)}{\\Gamma(\\alpha)\\Gamma(\\beta)}\\theta^{\\alpha-1}(1-\\theta)^{\\beta-1} \\\\\n",
        "&&& \\quad\\; [\\text{$\\alpha$ and $\\beta$ are called }\\textbf{hyperparameters}]\\\\\n",
        "&&& \\quad\\; [\\text{What is this distribution? What is $\\Gamma(\\cdot)$?}]\\\\\\\\\n",
        "\\text{Posterior} && p(\\theta|x,n,\\alpha,\\beta) &={} \\overset{\\text{Bayes Theorem}}{\\frac{p(x|\\theta)p(\\theta)}{p(x)}} = \\frac{C^n_k\\theta^{x}(1-\\theta)^{n-x}  \\frac{\\Gamma(\\alpha+\\beta)}{\\Gamma(\\alpha)\\Gamma(\\beta)}\\theta^{\\alpha-1}(1-\\theta)^{\\beta-1} }{p(x)} \\\\\n",
        "&&& = \\;\\texttt{What distribution parameterized how?}\n",
        "\\end{align*}\n"
      ]
    },
    {
      "cell_type": "markdown",
      "id": "265500e5",
      "metadata": {
        "id": "265500e5"
      },
      "source": [
        "# Homework\n",
        "\n",
        "---\n",
        "\n",
        "Q1: What proportion of students who answer this question quickly will pass the class?\n",
        "Assume the probability of passing the class is 0.9.\n",
        "Assume the probability of answering this question quickly is 0.6 if you'll pass the class,\n",
        "while the probability drops to 0.3 if you'll not pass the class.\n",
        "\\begin{align*}\n",
        "\\text{Answer:}\\\\\\\\\n",
        "P(\\text{Pass} | \\text{Quick}) &= \\frac{P(\\text{Quick} | \\text{Pass}) \\cdot P(\\text{Pass})}{P(\\text{Quick})} \\\\\\\\\n",
        "P(\\text{Quick}) &= P(\\text{Quick} | \\text{Pass}) \\cdot P(\\text{Pass}) + P(\\text{Quick} | \\text{Fail}) \\cdot P(\\text{Fail}) \\\\\n",
        "&= 0.6 \\times 0.9 + 0.3 \\times 0.1 \\\\\n",
        "&= 0.54 + 0.03 = 0.57 \\\\\\\\\n",
        "P(\\text{Pass} | \\text{Quick}) &= \\frac{0.6 \\times 0.9}{0.57} = \\frac{0.54}{0.57} \\approx 0.9474\n",
        "\\end{align*}\n",
        "\n",
        "Q2:\n",
        "\\begin{align*}\n",
        "\\text{Likelihood} && p(x|\\theta,n) &={} \\texttt{Multinomial}\\\\\\\\\n",
        "\\text{Prior} && p(\\theta|\\boldsymbol{\\alpha}) &={} \\texttt{Dirichlet} \\\\\n",
        "\\text{Posterior} && p(\\theta|x,n,\\boldsymbol{\\alpha}) &={} \\overset{\\text{Bayes Theorem}}{\\frac{p(x|\\theta)p(\\theta)}{p(x)}} = \\; \\texttt{What?}\\\\\n",
        "&&& \\quad\\quad\\quad\\quad\\quad\\; = \\; \\texttt{What distribution?}\\\\\n",
        "&&& \\quad\\quad\\quad\\quad\\quad\\quad\\;\\;\\, \\texttt{With what parameterization?}\\\\\n",
        "\\end{align*}\n",
        "### _The posterior is always proportional to the joint_\n",
        "\n",
        "$$\\large p(\\theta|x) = (1/c)\\times p(\\theta,x) \\propto{} p(\\theta,x)$$\n",
        "\n",
        "\n",
        "**_and the posterior is always a proper distribution if the prior is_**\n",
        "\n",
        "\n",
        "\\begin{align*}\n",
        "\\textbf{Answer: The posterior distribution is a Dirichlet distribution with parameters}\\\\\n",
        "\\boldsymbol{\\alpha}{_\\text{posterior}} = \\boldsymbol{\\alpha}{_\\text{prior}} + x.\n",
        "\\end{align*}\n",
        "\n",
        "Q3: Create a sample from a three category multinomial distribution and visualize the multinomial distribution and the multinomial sample; then, visualize the simplex Dirichlet distribution of the prior and the posterior using a ternary plot.\n",
        "\n"
      ]
    },
    {
      "cell_type": "code",
      "source": [
        "import numpy as np\n",
        "from scipy import stats\n",
        "import plotly.figure_factory as ff\n",
        "import numpy as np\n",
        "! pip install -U kaleido\n",
        "# p1p2p3_scatter = stats.dirichlet(alpha=np.array([1.0, 1.0, 1.0])).rvs(size=100)\n",
        "p1 = np.linspace(0,1,100)\n",
        "p2 = 1-p1.copy()\n",
        "p_ = np.linspace(0,1,100)\n",
        "p1 = (p1[np.newaxis,:]*p_[:,np.newaxis]).flatten()\n",
        "p2 = (p2[np.newaxis,:]*p_[:,np.newaxis]).flatten()\n",
        "p3 = 1-p1-p2\n",
        "p = np.c_[p1,p2,p3]\n",
        "\n",
        "alpha_prior = np.array([1.2, 1.2, 1.2])  # Prior alpha values\n",
        "dirichlet_prior = stats.dirichlet(alpha=alpha_prior)\n",
        "dirichlet_prior_densities = dirichlet_prior.pdf(p.T)\n",
        "\n",
        "# https://plotly.com/python/ternary-contour/Links to an external site.\n",
        "fig = ff.create_ternary_contour(p.T, dirichlet_prior.pdf(p.T),\n",
        "                                pole_labels=['p1', 'p2', 'p3'],\n",
        "                                interp_mode='cartesian',\n",
        "                                showscale=True)\n",
        "fig.update_layout(title_text='Dirichlet Prior')\n",
        "fig.show('png')\n",
        "\n",
        "# Calculate the Dirichlet posterior densities\n",
        "dirichlet_posterior = stats.dirichlet(alpha=alpha_posterior)\n",
        "dirichlet_posterior_densities = dirichlet_posterior.pdf(p.T)\n",
        "\n",
        "# Create the ternary contour plot for the posterior\n",
        "fig_post = ff.create_ternary_contour(p.T, dirichlet_posterior.pdf(p.T),\n",
        "                                     pole_labels=['p1', 'p2', 'p3'],\n",
        "                                     interp_mode='cartesian',\n",
        "                                     showscale=True)\n",
        "fig_post.update_layout(title_text='Dirichlet Posterior')\n",
        "fig_post.show('png')"
      ],
      "metadata": {
        "colab": {
          "base_uri": "https://localhost:8080/",
          "height": 436
        },
        "collapsed": true,
        "id": "uwj0eGNSbA04",
        "outputId": "f576a63b-b30a-468c-edaa-124571303240"
      },
      "id": "uwj0eGNSbA04",
      "execution_count": 35,
      "outputs": [
        {
          "output_type": "stream",
          "name": "stdout",
          "text": [
            "Requirement already satisfied: kaleido in /usr/local/lib/python3.10/dist-packages (0.2.1)\n"
          ]
        },
        {
          "output_type": "error",
          "ename": "ValueError",
          "evalue": "\nImage export using the \"kaleido\" engine requires the kaleido package,\nwhich can be installed using pip:\n    $ pip install -U kaleido\n",
          "traceback": [
            "\u001b[0;31m---------------------------------------------------------------------------\u001b[0m",
            "\u001b[0;31mValueError\u001b[0m                                Traceback (most recent call last)",
            "\u001b[0;32m<ipython-input-35-8e1ec20874c2>\u001b[0m in \u001b[0;36m<cell line: 25>\u001b[0;34m()\u001b[0m\n\u001b[1;32m     23\u001b[0m                                 showscale=True)\n\u001b[1;32m     24\u001b[0m \u001b[0mfig\u001b[0m\u001b[0;34m.\u001b[0m\u001b[0mupdate_layout\u001b[0m\u001b[0;34m(\u001b[0m\u001b[0mtitle_text\u001b[0m\u001b[0;34m=\u001b[0m\u001b[0;34m'Dirichlet Prior'\u001b[0m\u001b[0;34m)\u001b[0m\u001b[0;34m\u001b[0m\u001b[0;34m\u001b[0m\u001b[0m\n\u001b[0;32m---> 25\u001b[0;31m \u001b[0mfig\u001b[0m\u001b[0;34m.\u001b[0m\u001b[0mshow\u001b[0m\u001b[0;34m(\u001b[0m\u001b[0;34m'png'\u001b[0m\u001b[0;34m)\u001b[0m\u001b[0;34m\u001b[0m\u001b[0;34m\u001b[0m\u001b[0m\n\u001b[0m\u001b[1;32m     26\u001b[0m \u001b[0;34m\u001b[0m\u001b[0m\n\u001b[1;32m     27\u001b[0m \u001b[0;31m# Calculate the Dirichlet posterior densities\u001b[0m\u001b[0;34m\u001b[0m\u001b[0;34m\u001b[0m\u001b[0m\n",
            "\u001b[0;32m/usr/local/lib/python3.10/dist-packages/plotly/basedatatypes.py\u001b[0m in \u001b[0;36mshow\u001b[0;34m(self, *args, **kwargs)\u001b[0m\n\u001b[1;32m   3408\u001b[0m         \u001b[0;32mimport\u001b[0m \u001b[0mplotly\u001b[0m\u001b[0;34m.\u001b[0m\u001b[0mio\u001b[0m \u001b[0;32mas\u001b[0m \u001b[0mpio\u001b[0m\u001b[0;34m\u001b[0m\u001b[0;34m\u001b[0m\u001b[0m\n\u001b[1;32m   3409\u001b[0m \u001b[0;34m\u001b[0m\u001b[0m\n\u001b[0;32m-> 3410\u001b[0;31m         \u001b[0;32mreturn\u001b[0m \u001b[0mpio\u001b[0m\u001b[0;34m.\u001b[0m\u001b[0mshow\u001b[0m\u001b[0;34m(\u001b[0m\u001b[0mself\u001b[0m\u001b[0;34m,\u001b[0m \u001b[0;34m*\u001b[0m\u001b[0margs\u001b[0m\u001b[0;34m,\u001b[0m \u001b[0;34m**\u001b[0m\u001b[0mkwargs\u001b[0m\u001b[0;34m)\u001b[0m\u001b[0;34m\u001b[0m\u001b[0;34m\u001b[0m\u001b[0m\n\u001b[0m\u001b[1;32m   3411\u001b[0m \u001b[0;34m\u001b[0m\u001b[0m\n\u001b[1;32m   3412\u001b[0m     \u001b[0;32mdef\u001b[0m \u001b[0mto_json\u001b[0m\u001b[0;34m(\u001b[0m\u001b[0mself\u001b[0m\u001b[0;34m,\u001b[0m \u001b[0;34m*\u001b[0m\u001b[0margs\u001b[0m\u001b[0;34m,\u001b[0m \u001b[0;34m**\u001b[0m\u001b[0mkwargs\u001b[0m\u001b[0;34m)\u001b[0m\u001b[0;34m:\u001b[0m\u001b[0;34m\u001b[0m\u001b[0;34m\u001b[0m\u001b[0m\n",
            "\u001b[0;32m/usr/local/lib/python3.10/dist-packages/plotly/io/_renderers.py\u001b[0m in \u001b[0;36mshow\u001b[0;34m(fig, renderer, validate, **kwargs)\u001b[0m\n\u001b[1;32m    384\u001b[0m \u001b[0;34m\u001b[0m\u001b[0m\n\u001b[1;32m    385\u001b[0m     \u001b[0;31m# Mimetype renderers\u001b[0m\u001b[0;34m\u001b[0m\u001b[0;34m\u001b[0m\u001b[0m\n\u001b[0;32m--> 386\u001b[0;31m     \u001b[0mbundle\u001b[0m \u001b[0;34m=\u001b[0m \u001b[0mrenderers\u001b[0m\u001b[0;34m.\u001b[0m\u001b[0m_build_mime_bundle\u001b[0m\u001b[0;34m(\u001b[0m\u001b[0mfig_dict\u001b[0m\u001b[0;34m,\u001b[0m \u001b[0mrenderers_string\u001b[0m\u001b[0;34m=\u001b[0m\u001b[0mrenderer\u001b[0m\u001b[0;34m,\u001b[0m \u001b[0;34m**\u001b[0m\u001b[0mkwargs\u001b[0m\u001b[0;34m)\u001b[0m\u001b[0;34m\u001b[0m\u001b[0;34m\u001b[0m\u001b[0m\n\u001b[0m\u001b[1;32m    387\u001b[0m     \u001b[0;32mif\u001b[0m \u001b[0mbundle\u001b[0m\u001b[0;34m:\u001b[0m\u001b[0;34m\u001b[0m\u001b[0;34m\u001b[0m\u001b[0m\n\u001b[1;32m    388\u001b[0m         \u001b[0;32mif\u001b[0m \u001b[0;32mnot\u001b[0m \u001b[0mipython_display\u001b[0m\u001b[0;34m:\u001b[0m\u001b[0;34m\u001b[0m\u001b[0;34m\u001b[0m\u001b[0m\n",
            "\u001b[0;32m/usr/local/lib/python3.10/dist-packages/plotly/io/_renderers.py\u001b[0m in \u001b[0;36m_build_mime_bundle\u001b[0;34m(self, fig_dict, renderers_string, **kwargs)\u001b[0m\n\u001b[1;32m    292\u001b[0m                         \u001b[0msetattr\u001b[0m\u001b[0;34m(\u001b[0m\u001b[0mrenderer\u001b[0m\u001b[0;34m,\u001b[0m \u001b[0mk\u001b[0m\u001b[0;34m,\u001b[0m \u001b[0mv\u001b[0m\u001b[0;34m)\u001b[0m\u001b[0;34m\u001b[0m\u001b[0;34m\u001b[0m\u001b[0m\n\u001b[1;32m    293\u001b[0m \u001b[0;34m\u001b[0m\u001b[0m\n\u001b[0;32m--> 294\u001b[0;31m                 \u001b[0mbundle\u001b[0m\u001b[0;34m.\u001b[0m\u001b[0mupdate\u001b[0m\u001b[0;34m(\u001b[0m\u001b[0mrenderer\u001b[0m\u001b[0;34m.\u001b[0m\u001b[0mto_mimebundle\u001b[0m\u001b[0;34m(\u001b[0m\u001b[0mfig_dict\u001b[0m\u001b[0;34m)\u001b[0m\u001b[0;34m)\u001b[0m\u001b[0;34m\u001b[0m\u001b[0;34m\u001b[0m\u001b[0m\n\u001b[0m\u001b[1;32m    295\u001b[0m \u001b[0;34m\u001b[0m\u001b[0m\n\u001b[1;32m    296\u001b[0m         \u001b[0;32mreturn\u001b[0m \u001b[0mbundle\u001b[0m\u001b[0;34m\u001b[0m\u001b[0;34m\u001b[0m\u001b[0m\n",
            "\u001b[0;32m/usr/local/lib/python3.10/dist-packages/plotly/io/_base_renderers.py\u001b[0m in \u001b[0;36mto_mimebundle\u001b[0;34m(self, fig_dict)\u001b[0m\n\u001b[1;32m    124\u001b[0m \u001b[0;34m\u001b[0m\u001b[0m\n\u001b[1;32m    125\u001b[0m     \u001b[0;32mdef\u001b[0m \u001b[0mto_mimebundle\u001b[0m\u001b[0;34m(\u001b[0m\u001b[0mself\u001b[0m\u001b[0;34m,\u001b[0m \u001b[0mfig_dict\u001b[0m\u001b[0;34m)\u001b[0m\u001b[0;34m:\u001b[0m\u001b[0;34m\u001b[0m\u001b[0;34m\u001b[0m\u001b[0m\n\u001b[0;32m--> 126\u001b[0;31m         image_bytes = to_image(\n\u001b[0m\u001b[1;32m    127\u001b[0m             \u001b[0mfig_dict\u001b[0m\u001b[0;34m,\u001b[0m\u001b[0;34m\u001b[0m\u001b[0;34m\u001b[0m\u001b[0m\n\u001b[1;32m    128\u001b[0m             \u001b[0mformat\u001b[0m\u001b[0;34m=\u001b[0m\u001b[0mself\u001b[0m\u001b[0;34m.\u001b[0m\u001b[0mformat\u001b[0m\u001b[0;34m,\u001b[0m\u001b[0;34m\u001b[0m\u001b[0;34m\u001b[0m\u001b[0m\n",
            "\u001b[0;32m/usr/local/lib/python3.10/dist-packages/plotly/io/_kaleido.py\u001b[0m in \u001b[0;36mto_image\u001b[0;34m(fig, format, width, height, scale, validate, engine)\u001b[0m\n\u001b[1;32m    130\u001b[0m     \u001b[0;31m# Raise informative error message if Kaleido is not installed\u001b[0m\u001b[0;34m\u001b[0m\u001b[0;34m\u001b[0m\u001b[0m\n\u001b[1;32m    131\u001b[0m     \u001b[0;32mif\u001b[0m \u001b[0mscope\u001b[0m \u001b[0;32mis\u001b[0m \u001b[0;32mNone\u001b[0m\u001b[0;34m:\u001b[0m\u001b[0;34m\u001b[0m\u001b[0;34m\u001b[0m\u001b[0m\n\u001b[0;32m--> 132\u001b[0;31m         raise ValueError(\n\u001b[0m\u001b[1;32m    133\u001b[0m             \"\"\"\n\u001b[1;32m    134\u001b[0m \u001b[0mImage\u001b[0m \u001b[0mexport\u001b[0m \u001b[0musing\u001b[0m \u001b[0mthe\u001b[0m \u001b[0;34m\"kaleido\"\u001b[0m \u001b[0mengine\u001b[0m \u001b[0mrequires\u001b[0m \u001b[0mthe\u001b[0m \u001b[0mkaleido\u001b[0m \u001b[0mpackage\u001b[0m\u001b[0;34m,\u001b[0m\u001b[0;34m\u001b[0m\u001b[0;34m\u001b[0m\u001b[0m\n",
            "\u001b[0;31mValueError\u001b[0m: \nImage export using the \"kaleido\" engine requires the kaleido package,\nwhich can be installed using pip:\n    $ pip install -U kaleido\n"
          ]
        }
      ]
    }
  ],
  "metadata": {
    "celltoolbar": "Slideshow",
    "kernelspec": {
      "display_name": "Python 3 (ipykernel)",
      "language": "python",
      "name": "python3"
    },
    "language_info": {
      "codemirror_mode": {
        "name": "ipython",
        "version": 3
      },
      "file_extension": ".py",
      "mimetype": "text/x-python",
      "name": "python",
      "nbconvert_exporter": "python",
      "pygments_lexer": "ipython3",
      "version": "3.11.4"
    },
    "colab": {
      "provenance": [],
      "include_colab_link": true
    }
  },
  "nbformat": 4,
  "nbformat_minor": 5
}